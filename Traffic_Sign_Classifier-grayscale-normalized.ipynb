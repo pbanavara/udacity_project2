{
 "cells": [
  {
   "cell_type": "markdown",
   "metadata": {},
   "source": [
    "# Self-Driving Car Engineer Nanodegree\n",
    "\n",
    "## Deep Learning\n",
    "\n",
    "## Project: Build a Traffic Sign Recognition Classifier\n",
    "\n",
    "In this notebook, a template is provided for you to implement your functionality in stages, which is required to successfully complete this project. If additional code is required that cannot be included in the notebook, be sure that the Python code is successfully imported and included in your submission if necessary. \n",
    "\n",
    "> **Note**: Once you have completed all of the code implementations, you need to finalize your work by exporting the iPython Notebook as an HTML document. Before exporting the notebook to html, all of the code cells need to have been run so that reviewers can see the final implementation and output. You can then export the notebook by using the menu above and navigating to  \\n\",\n",
    "    \"**File -> Download as -> HTML (.html)**. Include the finished document along with this notebook as your submission. \n",
    "\n",
    "In addition to implementing code, there is a writeup to complete. The writeup should be completed in a separate file, which can be either a markdown file or a pdf document. There is a [write up template](https://github.com/udacity/CarND-Traffic-Sign-Classifier-Project/blob/master/writeup_template.md) that can be used to guide the writing process. Completing the code template and writeup template will cover all of the [rubric points](https://review.udacity.com/#!/rubrics/481/view) for this project.\n",
    "\n",
    "The [rubric](https://review.udacity.com/#!/rubrics/481/view) contains \"Stand Out Suggestions\" for enhancing the project beyond the minimum requirements. The stand out suggestions are optional. If you decide to pursue the \"stand out suggestions\", you can include the code in this Ipython notebook and also discuss the results in the writeup file.\n",
    "\n",
    "\n",
    ">**Note:** Code and Markdown cells can be executed using the **Shift + Enter** keyboard shortcut. In addition, Markdown cells can be edited by typically double-clicking the cell to enter edit mode."
   ]
  },
  {
   "cell_type": "markdown",
   "metadata": {},
   "source": [
    "---\n",
    "## Step 0: Load The Data"
   ]
  },
  {
   "cell_type": "code",
   "execution_count": 1,
   "metadata": {
    "collapsed": false
   },
   "outputs": [
    {
     "name": "stdout",
     "output_type": "stream",
     "text": [
      "(39209, 32, 32, 3)\n"
     ]
    }
   ],
   "source": [
    "# Load pickled data\n",
    "import pickle\n",
    "\n",
    "# TODO: Fill this in based on where you saved the training and testing data\n",
    "\n",
    "training_file = '/opt/datasets/traffic-sign/train.p'\n",
    "testing_file = '/opt/datasets/traffic-sign/test.p'\n",
    "\n",
    "with open(training_file, mode='rb') as f:\n",
    "    train = pickle.load(f)\n",
    "with open(testing_file, mode='rb') as f:\n",
    "    test = pickle.load(f)\n",
    "    \n",
    "X_train, y_train = train['features'], train['labels']\n",
    "print (X_train.shape)\n",
    "X_test, y_test = test['features'], test['labels']"
   ]
  },
  {
   "cell_type": "markdown",
   "metadata": {},
   "source": [
    "---\n",
    "\n",
    "## Step 1: Dataset Summary & Exploration\n",
    "\n",
    "The pickled data is a dictionary with 4 key/value pairs:\n",
    "\n",
    "- `'features'` is a 4D array containing raw pixel data of the traffic sign images, (num examples, width, height, channels).\n",
    "- `'labels'` is a 1D array containing the label/class id of the traffic sign. The file `signnames.csv` contains id -> name mappings for each id.\n",
    "- `'sizes'` is a list containing tuples, (width, height) representing the the original width and height the image.\n",
    "- `'coords'` is a list containing tuples, (x1, y1, x2, y2) representing coordinates of a bounding box around the sign in the image. **THESE COORDINATES ASSUME THE ORIGINAL IMAGE. THE PICKLED DATA CONTAINS RESIZED VERSIONS (32 by 32) OF THESE IMAGES**\n",
    "\n",
    "Complete the basic data summary below. Use python, numpy and/or pandas methods to calculate the data summary rather than hard coding the results. For example, the [pandas shape method](http://pandas.pydata.org/pandas-docs/stable/generated/pandas.DataFrame.shape.html) might be useful for calculating some of the summary results. "
   ]
  },
  {
   "cell_type": "markdown",
   "metadata": {},
   "source": [
    "### Provide a Basic Summary of the Data Set Using Python, Numpy and/or Pandas"
   ]
  },
  {
   "cell_type": "code",
   "execution_count": 2,
   "metadata": {
    "collapsed": false
   },
   "outputs": [
    {
     "name": "stdout",
     "output_type": "stream",
     "text": [
      "Number of training examples = 39209\n",
      "Number of testing examples = 12630\n",
      "Image data shape = (32, 32, 3)\n",
      "Number of classes = 43\n"
     ]
    }
   ],
   "source": [
    "### Replace each question mark with the appropriate value. \n",
    "### Use python, pandas or numpy methods rather than hard coding the results\n",
    "\n",
    "# TODO: Number of training examples\n",
    "n_train = X_train.shape[0]\n",
    "\n",
    "# TODO: Number of testing examples.\n",
    "n_test = X_test.shape[0]\n",
    "\n",
    "# TODO: What's the shape of an traffic sign image?\n",
    "image_shape = X_train.shape[1:4]\n",
    "\n",
    "# TODO: How many unique classes/labels there are in the dataset.\n",
    "n_classes = 43\n",
    "\n",
    "print(\"Number of training examples =\", n_train)\n",
    "print(\"Number of testing examples =\", n_test)\n",
    "print(\"Image data shape =\", image_shape)\n",
    "print(\"Number of classes =\", n_classes)"
   ]
  },
  {
   "cell_type": "markdown",
   "metadata": {},
   "source": [
    "### Include an exploratory visualization of the dataset"
   ]
  },
  {
   "cell_type": "markdown",
   "metadata": {},
   "source": [
    "Visualize the German Traffic Signs Dataset using the pickled file(s). This is open ended, suggestions include: plotting traffic sign images, plotting the count of each sign, etc.\n",
    "\n",
    "The [Matplotlib](http://matplotlib.org/) [examples](http://matplotlib.org/examples/index.html) and [gallery](http://matplotlib.org/gallery.html) pages are a great resource for doing visualizations in Python.\n",
    "\n",
    "**NOTE:** It's recommended you start with something simple first. If you wish to do more, come back to it after you've completed the rest of the sections."
   ]
  },
  {
   "cell_type": "code",
   "execution_count": 3,
   "metadata": {
    "collapsed": false
   },
   "outputs": [
    {
     "name": "stdout",
     "output_type": "stream",
     "text": [
      "2\n"
     ]
    },
    {
     "data": {
      "image/png": "[encoded data removed]",
      "text/plain": [
       "<matplotlib.figure.Figure at 0x7f888836a860>"
      ]
     },
     "metadata": {},
     "output_type": "display_data"
    }
   ],
   "source": [
    "### Data exploration visualization code goes here.\n",
    "### Feel free to use as many code cells as needed.\n",
    "import matplotlib.pyplot as plt\n",
    "# Visualizations will be shown in the notebook.\n",
    "%matplotlib inline\n",
    "import random\n",
    "import numpy as np\n",
    "%matplotlib inline\n",
    "\n",
    "index = random.randint(0, len(X_train))\n",
    "image = X_train[index].squeeze()\n",
    "\n",
    "plt.figure(figsize=(1,1))\n",
    "plt.imshow(image)\n",
    "print(y_train[index])"
   ]
  },
  {
   "cell_type": "markdown",
   "metadata": {},
   "source": [
    "----\n",
    "\n",
    "## Step 2: Design and Test a Model Architecture\n",
    "\n",
    "Design and implement a deep learning model that learns to recognize traffic signs. Train and test your model on the [German Traffic Sign Dataset](http://benchmark.ini.rub.de/?section=gtsrb&subsection=dataset).\n",
    "\n",
    "There are various aspects to consider when thinking about this problem:\n",
    "\n",
    "- Neural network architecture\n",
    "- Play around preprocessing techniques (normalization, rgb to grayscale, etc)\n",
    "- Number of examples per label (some have more than others).\n",
    "- Generate fake data.\n",
    "\n",
    "Here is an example of a [published baseline model on this problem](http://yann.lecun.com/exdb/publis/pdf/sermanet-ijcnn-11.pdf). It's not required to be familiar with the approach used in the paper but, it's good practice to try to read papers like these.\n",
    "\n",
    "**NOTE:** The LeNet-5 implementation shown in the [classroom](https://classroom.udacity.com/nanodegrees/nd013/parts/fbf77062-5703-404e-b60c-95b78b2f3f9e/modules/6df7ae49-c61c-4bb2-a23e-6527e69209ec/lessons/601ae704-1035-4287-8b11-e2c2716217ad/concepts/d4aca031-508f-4e0b-b493-e7b706120f81) at the end of the CNN lesson is a solid starting point. You'll have to change the number of classes and possibly the preprocessing, but aside from that it's plug and play!"
   ]
  },
  {
   "cell_type": "markdown",
   "metadata": {},
   "source": [
    "### Pre-process the Data Set (normalization, grayscale, etc.)"
   ]
  },
  {
   "cell_type": "markdown",
   "metadata": {},
   "source": [
    "Use the code cell (or multiple code cells, if necessary) to implement the first step of your project."
   ]
  },
  {
   "cell_type": "code",
   "execution_count": 5,
   "metadata": {
    "collapsed": false
   },
   "outputs": [
    {
     "name": "stdout",
     "output_type": "stream",
     "text": [
      "(39209, 32, 32, 1)\n"
     ]
    }
   ],
   "source": [
    "#X_train = np.array(newList)\n",
    "\n",
    "from sklearn.utils import shuffle\n",
    "import tensorflow as tf\n",
    "\n",
    "X_train, y_train = shuffle(X_train, y_train)\n",
    "result = tf.image.rgb_to_grayscale(X_train)\n",
    "result = tf.map_fn(lambda img: tf.cast(tf.image.per_image_standardization(img), tf.uint8), result)\n",
    "\n",
    "sess = tf.Session()\n",
    "with sess.as_default():\n",
    "    X_train = result.eval()\n",
    "print(X_train.shape)"
   ]
  },
  {
   "cell_type": "markdown",
   "metadata": {},
   "source": [
    "### Split Data into Training, Validation and Testing Sets"
   ]
  },
  {
   "cell_type": "code",
   "execution_count": 6,
   "metadata": {
    "collapsed": false
   },
   "outputs": [],
   "source": [
    "### Split the data into training/validation/testing sets here.\n",
    "### Feel free to use as many code cells as needed.\n",
    "from sklearn.model_selection import train_test_split\n",
    "X_train, X_validation, y_train, y_validation = train_test_split(X_train, y_train, test_size = 0.2, random_state = 42)"
   ]
  },
  {
   "cell_type": "markdown",
   "metadata": {},
   "source": [
    "### Model Architecture"
   ]
  },
  {
   "cell_type": "code",
   "execution_count": 7,
   "metadata": {
    "collapsed": true
   },
   "outputs": [],
   "source": [
    "### Define your architecture here.\n",
    "### Feel free to use as many code cells as needed.\n",
    "import tensorflow as tf\n",
    "from tensorflow.contrib.layers import flatten\n",
    "\n",
    "def LeNet(x):    \n",
    "    # Arguments used for tf.truncated_normal, randomly defines variables for the weights and biases for each layer\n",
    "    mu = 0\n",
    "    sigma = 0.1\n",
    "    \n",
    "    # TODO: Layer 1: Convolutional. Input = 32x32x1. Output = 28x28x6.\n",
    "    with tf.variable_scope('conv1') as scope:\n",
    "        kernel = tf.Variable(tf.truncated_normal((5, 5, 1, 6), mean = mu, stddev = sigma))\n",
    "        biases = tf.Variable(tf.zeros(6))\n",
    "        conv = tf.nn.conv2d(x, kernel, [1, 1, 1, 1], padding = 'VALID')\n",
    "        bias = tf.nn.bias_add(conv, biases)\n",
    "        conv1 = tf.nn.relu(bias, name = scope.name)\n",
    "        \n",
    "    print(\"Conv1 Shape:::\", conv1.get_shape())\n",
    "    # TODO: Activation.\n",
    "\n",
    "    # TODO: Pooling. Input = 28x28x6. Output = 14x14x6.\n",
    "    pool1 = tf.nn.max_pool(conv1, ksize=[1, 2, 2, 1], strides=[1, 2, 2, 1],\n",
    "                         padding='VALID', name='pool1')\n",
    "    print(\"Pool1 Shape:::\", pool1.get_shape())\n",
    "\n",
    "    # TODO: Layer 2: Convolutional. Output = 10x10x16.\n",
    "    with tf.variable_scope('conv2') as scope:\n",
    "        kernel = tf.Variable(tf.truncated_normal((5, 5, 6, 16), mean = mu, stddev = sigma))\n",
    "        biases = tf.Variable(tf.zeros(16))\n",
    "        conv = tf.nn.conv2d(pool1, kernel, [1, 1, 1, 1], padding = 'VALID')\n",
    "        bias = tf.nn.bias_add(conv, biases)\n",
    "        conv2 = tf.nn.relu(bias, name = scope.name)\n",
    "    \n",
    "    # TODO: Activation.\n",
    "    print(\"Conv2 Shape:::\", conv2.get_shape())\n",
    "\n",
    "    # TODO: Pooling. Input = 10x10x16. Output = 5x5x16.\n",
    "    pool2 = tf.nn.max_pool(conv2, ksize=[1, 2, 2, 1], strides=[1, 2, 2, 1],\n",
    "                         padding='VALID', name='pool2')\n",
    "    \n",
    "    \n",
    "    # TODO: Flatten. Input = 5x5x16. Output = 400.\n",
    "    pool2 = flatten(pool2, scope = 'pool2')\n",
    "    print(\"Pool2 Shape:::\", pool2.get_shape())\n",
    "    \n",
    "    \n",
    "    # TODO: Layer 3: Fully Connected. Input = 400. Output = 120.\n",
    "    with tf.variable_scope('layer3') as scope:\n",
    "        weights = tf.Variable(tf.truncated_normal((400, 120), mean = mu, stddev = sigma))\n",
    "        biases = tf.Variable(tf.zeros(120))\n",
    "        layer3 = tf.add(tf.matmul(pool2, weights), biases, name = scope.name)\n",
    "        layer3 = tf.nn.relu(layer3)\n",
    "    print(\"Layer3 Shape:::\", layer3.get_shape())\n",
    "    # TODO: Activation.\n",
    "\n",
    "    # TODO: Layer 4: Fully Connected. Input = 120. Output = 84.\n",
    "    with tf.variable_scope('layer4') as scope:\n",
    "        weights = tf.Variable(tf.truncated_normal((120, 84), mean = mu, stddev = sigma))\n",
    "        biases = tf.Variable(tf.zeros(84))\n",
    "        layer4 = tf.add(tf.matmul(layer3, weights), biases, name = scope.name)\n",
    "        layer4 = tf.nn.relu(layer4)\n",
    "    print(\"Layer 4 Shape\", layer4.get_shape())\n",
    "    \n",
    "    # TODO: Activation.\n",
    "\n",
    "    # TODO: Layer 5: Fully Connected. Input = 84. Output = 43.\n",
    "    with tf.variable_scope('logits') as scope:\n",
    "        weights = tf.Variable(tf.truncated_normal((84, 43), mean = mu, stddev = sigma))\n",
    "        biases = tf.Variable(tf.zeros(43))\n",
    "        logits = tf.add(tf.matmul(layer4, weights), biases, name = scope.name)\n",
    "    print(\"Logits Shape::\", logits.get_shape())\n",
    "    return logits"
   ]
  },
  {
   "cell_type": "markdown",
   "metadata": {},
   "source": [
    "### Train, Validate and Test the Model"
   ]
  },
  {
   "cell_type": "markdown",
   "metadata": {},
   "source": [
    "A validation set can be used to assess how well the model is performing. A low accuracy on the training and validation\n",
    "sets imply underfitting. A high accuracy on the test set but low accuracy on the validation set implies overfitting."
   ]
  },
  {
   "cell_type": "code",
   "execution_count": 8,
   "metadata": {
    "collapsed": true
   },
   "outputs": [],
   "source": [
    "### Train your model here.\n",
    "### Calculate and report the accuracy on the training and validation set.\n",
    "### Once a final model architecture is selected, \n",
    "### the accuracy on the test set should be calculated and reported as well.\n",
    "### Feel free to use as many code cells as needed."
   ]
  },
  {
   "cell_type": "code",
   "execution_count": 12,
   "metadata": {
    "collapsed": false
   },
   "outputs": [],
   "source": [
    "x = tf.placeholder(tf.float32, (None, 32, 32, 1))\n",
    "y = tf.placeholder(tf.int32, (None))\n",
    "one_hot_y = tf.one_hot(y, 43)"
   ]
  },
  {
   "cell_type": "code",
   "execution_count": 13,
   "metadata": {
    "collapsed": false
   },
   "outputs": [
    {
     "name": "stdout",
     "output_type": "stream",
     "text": [
      "Conv1 Shape::: (?, 28, 28, 6)\n",
      "Pool1 Shape::: (?, 14, 14, 6)\n",
      "Conv2 Shape::: (?, 10, 10, 16)\n",
      "Pool2 Shape::: (?, 400)\n",
      "Layer3 Shape::: (?, 120)\n",
      "Layer 4 Shape (?, 84)\n",
      "Logits Shape:: (?, 43)\n"
     ]
    }
   ],
   "source": [
    "rate = 0.001\n",
    "\n",
    "logits = LeNet(x)\n",
    "cross_entropy = tf.nn.softmax_cross_entropy_with_logits(logits, one_hot_y)\n",
    "loss_operation = tf.reduce_mean(cross_entropy)\n",
    "optimizer = tf.train.AdamOptimizer(learning_rate = rate)\n",
    "training_operation = optimizer.minimize(loss_operation)"
   ]
  },
  {
   "cell_type": "code",
   "execution_count": 14,
   "metadata": {
    "collapsed": false
   },
   "outputs": [
    {
     "name": "stdout",
     "output_type": "stream",
     "text": [
      "Correct prediction Tensor(\"Equal:0\", dtype=bool)\n"
     ]
    }
   ],
   "source": [
    "correct_prediction = tf.equal(tf.argmax(logits, 1), tf.argmax(one_hot_y, 1))\n",
    "print(\"Correct prediction\", correct_prediction)\n",
    "accuracy_operation = tf.reduce_mean(tf.cast(correct_prediction, tf.float32))\n",
    "saver = tf.train.Saver()\n",
    "\n",
    "def evaluate(X_data, y_data):\n",
    "    num_examples = len(X_data)\n",
    "    total_accuracy = 0\n",
    "    sess = tf.get_default_session()\n",
    "    for offset in range(0, num_examples, BATCH_SIZE):\n",
    "        batch_x, batch_y = X_data[offset:offset+BATCH_SIZE], y_data[offset:offset+BATCH_SIZE]\n",
    "        accuracy = sess.run(accuracy_operation, feed_dict={x: batch_x, y: batch_y})\n",
    "        total_accuracy += (accuracy * len(batch_x))\n",
    "    return total_accuracy / num_examples"
   ]
  },
  {
   "cell_type": "code",
   "execution_count": 15,
   "metadata": {
    "collapsed": false
   },
   "outputs": [
    {
     "name": "stdout",
     "output_type": "stream",
     "text": [
      "Training...\n",
      "\n",
      "EPOCH 1 ...\n",
      "Validation Accuracy = 0.601\n",
      "\n",
      "EPOCH 2 ...\n",
      "Validation Accuracy = 0.646\n",
      "\n",
      "EPOCH 3 ...\n",
      "Validation Accuracy = 0.656\n",
      "\n",
      "EPOCH 4 ...\n",
      "Validation Accuracy = 0.669\n",
      "\n",
      "EPOCH 5 ...\n",
      "Validation Accuracy = 0.677\n",
      "\n",
      "EPOCH 6 ...\n",
      "Validation Accuracy = 0.692\n",
      "\n",
      "EPOCH 7 ...\n",
      "Validation Accuracy = 0.692\n",
      "\n",
      "EPOCH 8 ...\n",
      "Validation Accuracy = 0.701\n",
      "\n",
      "EPOCH 9 ...\n",
      "Validation Accuracy = 0.704\n",
      "\n",
      "EPOCH 10 ...\n",
      "Validation Accuracy = 0.704\n",
      "\n",
      "Model saved\n"
     ]
    }
   ],
   "source": [
    "EPOCHS = 10\n",
    "BATCH_SIZE = 128\n",
    "with tf.Session() as sess:\n",
    "    sess.run(tf.global_variables_initializer())\n",
    "    num_examples = len(X_train)\n",
    "    \n",
    "    print(\"Training...\")\n",
    "    print()\n",
    "    for i in range(EPOCHS):\n",
    "        X_train, y_train = shuffle(X_train, y_train)\n",
    "        for offset in range(0, num_examples, BATCH_SIZE):\n",
    "            end = offset + BATCH_SIZE\n",
    "            batch_x, batch_y = X_train[offset:end], y_train[offset:end]\n",
    "            sess.run(training_operation, feed_dict={x: batch_x, y: batch_y})\n",
    "            \n",
    "        validation_accuracy = evaluate(X_validation, y_validation)\n",
    "        print(\"EPOCH {} ...\".format(i+1))\n",
    "        print(\"Validation Accuracy = {:.3f}\".format(validation_accuracy))\n",
    "        print()\n",
    "        \n",
    "    saver.save(sess, './traffic_sign')\n",
    "    print(\"Model saved\")"
   ]
  },
  {
   "cell_type": "markdown",
   "metadata": {},
   "source": [
    "---\n",
    "\n",
    "## Step 3: Test a Model on New Images\n",
    "\n",
    "To give yourself more insight into how your model is working, download at least five pictures of German traffic signs from the web and use your model to predict the traffic sign type.\n",
    "\n",
    "You may find `signnames.csv` useful as it contains mappings from the class id (integer) to the actual sign name."
   ]
  },
  {
   "cell_type": "markdown",
   "metadata": {},
   "source": [
    "### Load and Output the Images"
   ]
  },
  {
   "cell_type": "code",
   "execution_count": 68,
   "metadata": {
    "collapsed": false
   },
   "outputs": [
    {
     "name": "stdout",
     "output_type": "stream",
     "text": [
      "<tensorflow.python.ops.data_flow_ops.FIFOQueue object at 0x7fa685e541d0>\n"
     ]
    }
   ],
   "source": [
    "### Load the images and plot them here.\n",
    "### Feel free to use as many code cells as needed.\n",
    "import tensorflow as tf\n",
    "filename_queue = tf.train.string_input_producer(['file1.jpeg', 'file2.jpeg', 'file3.jpeg', 'file4.jpeg', 'file5.jpeg'])\n",
    "print(filename_queue)\n",
    "image_reader = tf.WholeFileReader()\n",
    "key, value = image_reader.read(filename_queue)\n",
    "my_img = tf.image.decode_jpeg(value)"
   ]
  },
  {
   "cell_type": "code",
   "execution_count": 83,
   "metadata": {
    "collapsed": false
   },
   "outputs": [
    {
     "name": "stdout",
     "output_type": "stream",
     "text": [
      "Predictions :::: [[  9.63458955e-01   1.92780662e-02   1.51000762e-07   1.84142263e-12\n",
      "    3.00181046e-06   2.61075650e-09   3.55229179e-09   1.11901436e-07\n",
      "    8.02905652e-06   1.56451675e-11   4.62944296e-19   1.16988929e-06\n",
      "    1.01716887e-06   3.83541598e-09   1.64038081e-08   1.70353644e-06\n",
      "    3.37913494e-14   1.29871737e-16   3.46757675e-04   1.32814452e-12\n",
      "    1.27149281e-06   8.28923305e-07   7.67887576e-12   5.89021276e-09\n",
      "    5.76218984e-09   2.78147603e-08   8.46756995e-03   1.83638871e-09\n",
      "    8.00767355e-03   4.17174509e-04   5.96688643e-10   9.83783188e-09\n",
      "    4.09431868e-06   9.01256066e-13   6.42467304e-19   4.68686454e-15\n",
      "    9.54631543e-15   9.30539290e-09   8.34673202e-08   1.53107306e-18\n",
      "    2.20642028e-06   5.66697222e-09   3.57721923e-08]\n",
      " [  4.13231564e-23   3.58418806e-09   6.44085176e-08   3.45262700e-15\n",
      "    1.17490847e-14   1.38115810e-13   4.26642409e-20   5.08486586e-10\n",
      "    9.28710764e-20   1.51799973e-09   5.19867854e-06   9.89299893e-01\n",
      "    8.91829375e-03   2.73945688e-13   1.07679667e-13   2.92162984e-18\n",
      "    3.94668483e-13   2.53062984e-19   1.86670253e-08   3.23352490e-14\n",
      "    1.94627758e-10   2.97194624e-09   7.71309926e-20   5.52205029e-06\n",
      "    1.18742542e-14   1.06675252e-07   1.98684731e-07   3.70493103e-09\n",
      "    5.46446302e-07   3.23990224e-10   1.76330225e-03   3.16971411e-13\n",
      "    1.06832190e-23   9.47210475e-16   1.25563755e-19   3.71629243e-19\n",
      "    6.44282374e-25   9.30417063e-11   8.75257342e-18   1.95021473e-12\n",
      "    6.00730004e-07   2.44540997e-18   6.25622306e-06]\n",
      " [  4.13231564e-23   3.58418806e-09   6.44085176e-08   3.45262700e-15\n",
      "    1.17490847e-14   1.38115810e-13   4.26642409e-20   5.08486586e-10\n",
      "    9.28710764e-20   1.51799973e-09   5.19867854e-06   9.89299893e-01\n",
      "    8.91829375e-03   2.73945688e-13   1.07679667e-13   2.92162984e-18\n",
      "    3.94668483e-13   2.53062984e-19   1.86670253e-08   3.23352490e-14\n",
      "    1.94627758e-10   2.97194624e-09   7.71309926e-20   5.52205029e-06\n",
      "    1.18742542e-14   1.06675252e-07   1.98684731e-07   3.70493103e-09\n",
      "    5.46446302e-07   3.23990224e-10   1.76330225e-03   3.16971411e-13\n",
      "    1.06832190e-23   9.47210475e-16   1.25563755e-19   3.71629243e-19\n",
      "    6.44282374e-25   9.30417063e-11   8.75257342e-18   1.95021473e-12\n",
      "    6.00730004e-07   2.44540997e-18   6.25622306e-06]\n",
      " [  4.13901383e-22   1.65520707e-16   1.34145501e-17   1.23205252e-13\n",
      "    4.38276365e-34   9.33506676e-14   6.41756509e-11   1.05313244e-18\n",
      "    5.05321262e-28   2.73320017e-12   3.50246985e-16   6.60736114e-05\n",
      "    7.83454464e-13   1.05735264e-04   1.43474929e-22   2.70415071e-35\n",
      "    2.30068547e-12   7.13903892e-36   3.11739033e-27   9.05554771e-16\n",
      "    6.22644067e-01   2.71096256e-16   3.12148484e-34   1.15072435e-04\n",
      "    4.42730571e-21   3.76659960e-01   3.72231537e-26   4.01941210e-26\n",
      "    1.40967533e-13   2.50967250e-11   1.44504312e-14   3.17644701e-22\n",
      "    1.66095021e-16   2.02504334e-14   8.63662428e-21   1.37594510e-11\n",
      "    1.52270531e-21   3.55491062e-32   6.39204626e-22   1.93005951e-25\n",
      "    6.04304804e-17   1.15147930e-12   4.08995635e-04]\n",
      " [  5.22774213e-10   9.29528960e-06   2.11005798e-03   7.87309974e-12\n",
      "    4.79343345e-13   4.68444672e-10   9.17999288e-11   1.98992739e-10\n",
      "    5.43206988e-06   3.15625304e-12   1.77188255e-12   4.25069220e-06\n",
      "    9.87679303e-01   2.65293193e-06   6.76638971e-04   8.10645179e-06\n",
      "    3.93149836e-12   4.63373503e-16   2.23421299e-11   5.86630813e-06\n",
      "    1.19578908e-03   4.17134487e-11   3.59843652e-14   6.34689115e-07\n",
      "    8.88751183e-15   1.11384225e-07   2.18274494e-07   4.25349155e-13\n",
      "    1.47494860e-03   7.54735154e-08   6.71392912e-03   4.62711025e-09\n",
      "    1.70536168e-05   4.52101634e-10   2.20099321e-11   2.35695424e-07\n",
      "    8.21960518e-15   1.23011613e-14   6.02265182e-10   1.94689195e-21\n",
      "    5.41268754e-08   5.98735569e-05   3.55403135e-05]]\n",
      "Top 5 probabilities TopKV2(values=array([[  9.63458955e-01,   1.92780662e-02,   8.46756995e-03,\n",
      "          8.00767355e-03,   4.17174509e-04],\n",
      "       [  9.89299893e-01,   8.91829375e-03,   1.76330225e-03,\n",
      "          6.25622306e-06,   5.52205029e-06],\n",
      "       [  9.89299893e-01,   8.91829375e-03,   1.76330225e-03,\n",
      "          6.25622306e-06,   5.52205029e-06],\n",
      "       [  6.22644067e-01,   3.76659960e-01,   4.08995635e-04,\n",
      "          1.15072435e-04,   1.05735264e-04],\n",
      "       [  9.87679303e-01,   6.71392912e-03,   2.11005798e-03,\n",
      "          1.47494860e-03,   1.19578908e-03]], dtype=float32), indices=array([[ 0,  1, 26, 28, 29],\n",
      "       [11, 12, 30, 42, 23],\n",
      "       [11, 12, 30, 42, 23],\n",
      "       [20, 25, 42, 23, 13],\n",
      "       [12, 30,  2, 28, 20]], dtype=int32))\n"
     ]
    }
   ],
   "source": [
    "init = tf.global_variables_initializer()\n",
    "with tf.Session() as sess:\n",
    "    # Required to get the filename matching to run.\n",
    "    sess.run(init)\n",
    "\n",
    "    # Coordinate the loading of image files.\n",
    "    coord = tf.train.Coordinator()\n",
    "    threads = tf.train.start_queue_runners(coord=coord)\n",
    "\n",
    "    # Get an image tensor and print its value.\n",
    "    saver.restore(sess, tf.train.latest_checkpoint('.'))\n",
    "    pred = tf.nn.softmax(logits)\n",
    "    \n",
    "    #Batch the images\n",
    "    new_list = []\n",
    "    for i in range(5): #length of your filename list\n",
    "        image = my_img.eval() #here is your image Tensor :) \n",
    "        new_image = tf.image.resize_images(image, [32, 32]).eval()\n",
    "        new_list.append(new_image)\n",
    "    new_arr = np.array(new_list)\n",
    "    \n",
    "    predictions = sess.run(pred, feed_dict={x: new_arr})\n",
    "    print(\"Predictions ::::\", predictions)\n",
    "    print(\"Top 5 probabilities\", sess.run(tf.nn.top_k(tf.constant(predictions), k=5)))\n",
    "    # Finish off the filename queue coordinator.\n",
    "    coord.request_stop()\n",
    "    coord.join(threads)\n",
    "    sess.close()"
   ]
  },
  {
   "cell_type": "markdown",
   "metadata": {},
   "source": [
    "### Predict the Sign Type for Each Image"
   ]
  },
  {
   "cell_type": "code",
   "execution_count": null,
   "metadata": {
    "collapsed": true
   },
   "outputs": [],
   "source": [
    "### Run the predictions here and use the model to output the prediction for each image.\n",
    "### Make sure to pre-process the images with the same pre-processing pipeline used earlier.\n",
    "### Feel free to use as many code cells as needed."
   ]
  },
  {
   "cell_type": "markdown",
   "metadata": {},
   "source": [
    "### Analyze Performance"
   ]
  },
  {
   "cell_type": "code",
   "execution_count": null,
   "metadata": {
    "collapsed": true
   },
   "outputs": [],
   "source": [
    "### Calculate the accuracy for these 5 new images. \n",
    "### For example, if the model predicted 1 out of 5 signs correctly, it's 20% accurate on these new images.\n"
   ]
  },
  {
   "cell_type": "markdown",
   "metadata": {},
   "source": [
    "### Output Top 5 Softmax Probabilities For Each Image Found on the Web"
   ]
  },
  {
   "cell_type": "markdown",
   "metadata": {},
   "source": [
    "For each of the new images, print out the model's softmax probabilities to show the **certainty** of the model's predictions (limit the output to the top 5 probabilities for each image). [`tf.nn.top_k`](https://www.tensorflow.org/versions/r0.12/api_docs/python/nn.html#top_k) could prove helpful here. \n",
    "\n",
    "The example below demonstrates how tf.nn.top_k can be used to find the top k predictions for each image.\n",
    "\n",
    "`tf.nn.top_k` will return the values and indices (class ids) of the top k predictions. So if k=3, for each sign, it'll return the 3 largest probabilities (out of a possible 43) and the correspoding class ids.\n",
    "\n",
    "Take this numpy array as an example. The values in the array represent predictions. The array contains softmax probabilities for five candidate images with six possible classes. `tk.nn.top_k` is used to choose the three classes with the highest probability:\n",
    "\n",
    "```\n",
    "# (5, 6) array\n",
    "a = np.array([[ 0.24879643,  0.07032244,  0.12641572,  0.34763842,  0.07893497,\n",
    "         0.12789202],\n",
    "       [ 0.28086119,  0.27569815,  0.08594638,  0.0178669 ,  0.18063401,\n",
    "         0.15899337],\n",
    "       [ 0.26076848,  0.23664738,  0.08020603,  0.07001922,  0.1134371 ,\n",
    "         0.23892179],\n",
    "       [ 0.11943333,  0.29198961,  0.02605103,  0.26234032,  0.1351348 ,\n",
    "         0.16505091],\n",
    "       [ 0.09561176,  0.34396535,  0.0643941 ,  0.16240774,  0.24206137,\n",
    "         0.09155967]])\n",
    "```\n",
    "\n",
    "Running it through `sess.run(tf.nn.top_k(tf.constant(a), k=3))` produces:\n",
    "\n",
    "```\n",
    "TopKV2(values=array([[ 0.34763842,  0.24879643,  0.12789202],\n",
    "       [ 0.28086119,  0.27569815,  0.18063401],\n",
    "       [ 0.26076848,  0.23892179,  0.23664738],\n",
    "       [ 0.29198961,  0.26234032,  0.16505091],\n",
    "       [ 0.34396535,  0.24206137,  0.16240774]]), indices=array([[3, 0, 5],\n",
    "       [0, 1, 4],\n",
    "       [0, 5, 1],\n",
    "       [1, 3, 5],\n",
    "       [1, 4, 3]], dtype=int32))\n",
    "```\n",
    "\n",
    "Looking just at the first row we get `[ 0.34763842,  0.24879643,  0.12789202]`, you can confirm these are the 3 largest probabilities in `a`. You'll also notice `[3, 0, 5]` are the corresponding indices."
   ]
  },
  {
   "cell_type": "code",
   "execution_count": null,
   "metadata": {
    "collapsed": true
   },
   "outputs": [],
   "source": [
    "### Print out the top five softmax probabilities for the predictions on the German traffic sign images found on the web. \n",
    "### Feel free to use as many code cells as needed.\n"
   ]
  },
  {
   "cell_type": "markdown",
   "metadata": {},
   "source": [
    "> **Note**: Once you have completed all of the code implementations, you need to finalize your work by exporting the IPython Notebook as an HTML document. Before exporting the notebook to html, all of the code cells need to have been run. You can then export the notebook by using the menu above and navigating to  \\n\",\n",
    "    \"**File -> Download as -> HTML (.html)**. Include the finished document along with this notebook as your submission. "
   ]
  },
  {
   "cell_type": "markdown",
   "metadata": {},
   "source": [
    "### Project Writeup\n",
    "\n",
    "Once you have completed the code implementation, document your results in a project writeup using this [template](https://github.com/udacity/CarND-Traffic-Sign-Classifier-Project/blob/master/writeup_template.md) as a guide. The writeup can be in a markdown or pdf file. "
   ]
  }
 ],
 "metadata": {
  "anaconda-cloud": {},
  "kernelspec": {
   "display_name": "Python 3",
   "language": "python",
   "name": "python3"
  },
  "language_info": {
   "codemirror_mode": {
    "name": "ipython",
    "version": 3
   },
   "file_extension": ".py",
   "mimetype": "text/x-python",
   "name": "python",
   "nbconvert_exporter": "python",
   "pygments_lexer": "ipython3",
   "version": "3.5.2"
  }
 },
 "nbformat": 4,
 "nbformat_minor": 1
}

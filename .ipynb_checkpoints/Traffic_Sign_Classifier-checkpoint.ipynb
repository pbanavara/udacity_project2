{
 "cells": [
  {
   "cell_type": "markdown",
   "metadata": {},
   "source": [
    "# Self-Driving Car Engineer Nanodegree\n",
    "\n",
    "## Deep Learning\n",
    "\n",
    "## Project: Build a Traffic Sign Recognition Classifier\n",
    "\n",
    "In this notebook, a template is provided for you to implement your functionality in stages, which is required to successfully complete this project. If additional code is required that cannot be included in the notebook, be sure that the Python code is successfully imported and included in your submission if necessary. \n",
    "\n",
    "> **Note**: Once you have completed all of the code implementations, you need to finalize your work by exporting the iPython Notebook as an HTML document. Before exporting the notebook to html, all of the code cells need to have been run so that reviewers can see the final implementation and output. You can then export the notebook by using the menu above and navigating to  \\n\",\n",
    "    \"**File -> Download as -> HTML (.html)**. Include the finished document along with this notebook as your submission. \n",
    "\n",
    "In addition to implementing code, there is a writeup to complete. The writeup should be completed in a separate file, which can be either a markdown file or a pdf document. There is a [write up template](https://github.com/udacity/CarND-Traffic-Sign-Classifier-Project/blob/master/writeup_template.md) that can be used to guide the writing process. Completing the code template and writeup template will cover all of the [rubric points](https://review.udacity.com/#!/rubrics/481/view) for this project.\n",
    "\n",
    "The [rubric](https://review.udacity.com/#!/rubrics/481/view) contains \"Stand Out Suggestions\" for enhancing the project beyond the minimum requirements. The stand out suggestions are optional. If you decide to pursue the \"stand out suggestions\", you can include the code in this Ipython notebook and also discuss the results in the writeup file.\n",
    "\n",
    "\n",
    ">**Note:** Code and Markdown cells can be executed using the **Shift + Enter** keyboard shortcut. In addition, Markdown cells can be edited by typically double-clicking the cell to enter edit mode."
   ]
  },
  {
   "cell_type": "markdown",
   "metadata": {},
   "source": [
    "---\n",
    "## Step 0: Load The Data"
   ]
  },
  {
   "cell_type": "code",
   "execution_count": 1,
   "metadata": {
    "collapsed": false
   },
   "outputs": [
    {
     "name": "stdout",
     "output_type": "stream",
     "text": [
      "(39209, 32, 32, 3)\n"
     ]
    }
   ],
   "source": [
    "# Load pickled data\n",
    "import pickle\n",
    "\n",
    "# TODO: Fill this in based on where you saved the training and testing data\n",
    "\n",
    "training_file = '/opt/datasets/traffic-sign/train.p'\n",
    "testing_file = '/opt/datasets/traffic-sign/test.p'\n",
    "\n",
    "with open(training_file, mode='rb') as f:\n",
    "    train = pickle.load(f)\n",
    "with open(testing_file, mode='rb') as f:\n",
    "    test = pickle.load(f)\n",
    "    \n",
    "X_train, y_train = train['features'], train['labels']\n",
    "print (X_train.shape)\n",
    "X_test, y_test = test['features'], test['labels']"
   ]
  },
  {
   "cell_type": "markdown",
   "metadata": {},
   "source": [
    "---\n",
    "\n",
    "## Step 1: Dataset Summary & Exploration\n",
    "\n",
    "The pickled data is a dictionary with 4 key/value pairs:\n",
    "\n",
    "- `'features'` is a 4D array containing raw pixel data of the traffic sign images, (num examples, width, height, channels).\n",
    "- `'labels'` is a 1D array containing the label/class id of the traffic sign. The file `signnames.csv` contains id -> name mappings for each id.\n",
    "- `'sizes'` is a list containing tuples, (width, height) representing the the original width and height the image.\n",
    "- `'coords'` is a list containing tuples, (x1, y1, x2, y2) representing coordinates of a bounding box around the sign in the image. **THESE COORDINATES ASSUME THE ORIGINAL IMAGE. THE PICKLED DATA CONTAINS RESIZED VERSIONS (32 by 32) OF THESE IMAGES**\n",
    "\n",
    "Complete the basic data summary below. Use python, numpy and/or pandas methods to calculate the data summary rather than hard coding the results. For example, the [pandas shape method](http://pandas.pydata.org/pandas-docs/stable/generated/pandas.DataFrame.shape.html) might be useful for calculating some of the summary results. "
   ]
  },
  {
   "cell_type": "markdown",
   "metadata": {},
   "source": [
    "### Provide a Basic Summary of the Data Set Using Python, Numpy and/or Pandas"
   ]
  },
  {
   "cell_type": "code",
   "execution_count": 2,
   "metadata": {
    "collapsed": false
   },
   "outputs": [
    {
     "name": "stdout",
     "output_type": "stream",
     "text": [
      "Number of training examples = 39209\n",
      "Number of testing examples = 12630\n",
      "Image data shape = (32, 32, 3)\n",
      "Number of classes = 43\n"
     ]
    }
   ],
   "source": [
    "### Replace each question mark with the appropriate value. \n",
    "### Use python, pandas or numpy methods rather than hard coding the results\n",
    "\n",
    "# TODO: Number of training examples\n",
    "n_train = X_train.shape[0]\n",
    "\n",
    "# TODO: Number of testing examples.\n",
    "n_test = X_test.shape[0]\n",
    "\n",
    "# TODO: What's the shape of an traffic sign image?\n",
    "image_shape = X_train.shape[1:4]\n",
    "\n",
    "# TODO: How many unique classes/labels there are in the dataset.\n",
    "n_classes = 43\n",
    "\n",
    "print(\"Number of training examples =\", n_train)\n",
    "print(\"Number of testing examples =\", n_test)\n",
    "print(\"Image data shape =\", image_shape)\n",
    "print(\"Number of classes =\", n_classes)"
   ]
  },
  {
   "cell_type": "markdown",
   "metadata": {},
   "source": [
    "### Include an exploratory visualization of the dataset"
   ]
  },
  {
   "cell_type": "markdown",
   "metadata": {},
   "source": [
    "Visualize the German Traffic Signs Dataset using the pickled file(s). This is open ended, suggestions include: plotting traffic sign images, plotting the count of each sign, etc.\n",
    "\n",
    "The [Matplotlib](http://matplotlib.org/) [examples](http://matplotlib.org/examples/index.html) and [gallery](http://matplotlib.org/gallery.html) pages are a great resource for doing visualizations in Python.\n",
    "\n",
    "**NOTE:** It's recommended you start with something simple first. If you wish to do more, come back to it after you've completed the rest of the sections."
   ]
  },
  {
   "cell_type": "code",
   "execution_count": 3,
   "metadata": {
    "collapsed": false
   },
   "outputs": [
    {
     "name": "stdout",
     "output_type": "stream",
     "text": [
      "28\n"
     ]
    },
    {
     "data": {
      "image/png": "[encoded data removed]",
      "text/plain": [
       "<matplotlib.figure.Figure at 0x7ffb6c107898>"
      ]
     },
     "metadata": {},
     "output_type": "display_data"
    },
    {
     "data": {
      "image/png": "[encoded data removed]",
      "text/plain": [
       "<matplotlib.figure.Figure at 0x7ffb7b07f550>"
      ]
     },
     "metadata": {},
     "output_type": "display_data"
    }
   ],
   "source": [
    "### Data exploration visualization code goes here.\n",
    "### Feel free to use as many code cells as needed.\n",
    "import matplotlib.pyplot as plt\n",
    "# Visualizations will be shown in the notebook.\n",
    "%matplotlib inline\n",
    "import random\n",
    "import numpy as np\n",
    "%matplotlib inline\n",
    "\n",
    "index = random.randint(0, len(X_train))\n",
    "image = X_train[index].squeeze()\n",
    "\n",
    "plt.figure(figsize=(1,1))\n",
    "plt.imshow(image)\n",
    "print(y_train[index])\n",
    "\n",
    "figure, axes = plt.subplots(2,5, figsize=(15, 6))\n",
    "figure.subplots_adjust(hspace = .2, wspace=.001)\n",
    "axes = axes.ravel()\n",
    "for i in range(10):\n",
    "    index = random.randint(0, len(X_train))\n",
    "    image = X_train[index]\n",
    "    axes[i].axis('off')\n",
    "    axes[i].imshow(image)\n",
    "    axes[i].set_title(y_train[index])"
   ]
  },
  {
   "cell_type": "code",
   "execution_count": 4,
   "metadata": {
    "collapsed": false
   },
   "outputs": [
    {
     "data": {
      "image/png": "[encoded data removed]",
      "text/plain": [
       "<matplotlib.figure.Figure at 0x7ffb74657fd0>"
      ]
     },
     "metadata": {},
     "output_type": "display_data"
    }
   ],
   "source": [
    "# histogram of label frequency\n",
    "hist, bins = np.histogram(y_train, bins=n_classes)\n",
    "width = 0.7 * (bins[1] - bins[0])\n",
    "center = (bins[:-1] + bins[1:]) / 2\n",
    "plt.bar(center, hist, align='center', width=width)\n",
    "plt.show()"
   ]
  },
  {
   "cell_type": "markdown",
   "metadata": {},
   "source": [
    "----\n",
    "\n",
    "## Step 2: Design and Test a Model Architecture\n",
    "\n",
    "Design and implement a deep learning model that learns to recognize traffic signs. Train and test your model on the [German Traffic Sign Dataset](http://benchmark.ini.rub.de/?section=gtsrb&subsection=dataset).\n",
    "\n",
    "There are various aspects to consider when thinking about this problem:\n",
    "\n",
    "- Neural network architecture\n",
    "- Play around preprocessing techniques (normalization, rgb to grayscale, etc)\n",
    "- Number of examples per label (some have more than others).\n",
    "- Generate fake data.\n",
    "\n",
    "Here is an example of a [published baseline model on this problem](http://yann.lecun.com/exdb/publis/pdf/sermanet-ijcnn-11.pdf). It's not required to be familiar with the approach used in the paper but, it's good practice to try to read papers like these.\n",
    "\n",
    "**NOTE:** The LeNet-5 implementation shown in the [classroom](https://classroom.udacity.com/nanodegrees/nd013/parts/fbf77062-5703-404e-b60c-95b78b2f3f9e/modules/6df7ae49-c61c-4bb2-a23e-6527e69209ec/lessons/601ae704-1035-4287-8b11-e2c2716217ad/concepts/d4aca031-508f-4e0b-b493-e7b706120f81) at the end of the CNN lesson is a solid starting point. You'll have to change the number of classes and possibly the preprocessing, but aside from that it's plug and play!"
   ]
  },
  {
   "cell_type": "markdown",
   "metadata": {},
   "source": [
    "### Pre-process the Data Set (normalization, grayscale, etc.)"
   ]
  },
  {
   "cell_type": "markdown",
   "metadata": {},
   "source": [
    "Use the code cell (or multiple code cells, if necessary) to implement the first step of your project."
   ]
  },
  {
   "cell_type": "code",
   "execution_count": 5,
   "metadata": {
    "collapsed": false
   },
   "outputs": [],
   "source": [
    "#X_train = np.array(newList)\n",
    "\n",
    "from sklearn.utils import shuffle\n",
    "import tensorflow as tf\n",
    "\n",
    "X_train, y_train = shuffle(X_train, y_train)"
   ]
  },
  {
   "cell_type": "markdown",
   "metadata": {},
   "source": [
    "### Split Data into Training, Validation and Testing Sets"
   ]
  },
  {
   "cell_type": "code",
   "execution_count": 6,
   "metadata": {
    "collapsed": false
   },
   "outputs": [],
   "source": [
    "### Split the data into training/validation/testing sets here.\n",
    "### Feel free to use as many code cells as needed.\n",
    "from sklearn.model_selection import train_test_split\n",
    "X_train, X_validation, y_train, y_validation = train_test_split(X_train, y_train, test_size = 0.2, random_state = 42)"
   ]
  },
  {
   "cell_type": "markdown",
   "metadata": {},
   "source": [
    "### Model Architecture"
   ]
  },
  {
   "cell_type": "code",
   "execution_count": 7,
   "metadata": {
    "collapsed": true
   },
   "outputs": [],
   "source": [
    "### Define your architecture here.\n",
    "### Feel free to use as many code cells as needed.\n",
    "import tensorflow as tf\n",
    "from tensorflow.contrib.layers import flatten\n",
    "\n",
    "def LeNet(x):    \n",
    "    # Arguments used for tf.truncated_normal, randomly defines variables for the weights and biases for each layer\n",
    "    mu = 0\n",
    "    sigma = 0.1\n",
    "    \n",
    "    # TODO: Layer 1: Convolutional. Input = 32x32x1. Output = 28x28x6.\n",
    "    with tf.variable_scope('conv1') as scope:\n",
    "        kernel = tf.Variable(tf.truncated_normal((5, 5, 3, 6), mean = mu, stddev = sigma))\n",
    "        biases = tf.Variable(tf.zeros(6))\n",
    "        conv = tf.nn.conv2d(x, kernel, [1, 1, 1, 1], padding = 'VALID')\n",
    "        bias = tf.nn.bias_add(conv, biases)\n",
    "        conv1 = tf.nn.relu(bias, name = scope.name)\n",
    "        \n",
    "    print(\"Conv1 Shape:::\", conv1.get_shape())\n",
    "    # TODO: Activation.\n",
    "\n",
    "    # TODO: Pooling. Input = 28x28x6. Output = 14x14x6.\n",
    "    pool1 = tf.nn.max_pool(conv1, ksize=[1, 2, 2, 1], strides=[1, 2, 2, 1],\n",
    "                         padding='VALID', name='pool1')\n",
    "    print(\"Pool1 Shape:::\", pool1.get_shape())\n",
    "\n",
    "    # TODO: Layer 2: Convolutional. Output = 10x10x16.\n",
    "    with tf.variable_scope('conv2') as scope:\n",
    "        kernel = tf.Variable(tf.truncated_normal((5, 5, 6, 16), mean = mu, stddev = sigma))\n",
    "        biases = tf.Variable(tf.zeros(16))\n",
    "        conv = tf.nn.conv2d(pool1, kernel, [1, 1, 1, 1], padding = 'VALID')\n",
    "        bias = tf.nn.bias_add(conv, biases)\n",
    "        conv2 = tf.nn.relu(bias, name = scope.name)\n",
    "    \n",
    "    # TODO: Activation.\n",
    "    print(\"Conv2 Shape:::\", conv2.get_shape())\n",
    "\n",
    "    # TODO: Pooling. Input = 10x10x16. Output = 5x5x16.\n",
    "    pool2 = tf.nn.max_pool(conv2, ksize=[1, 2, 2, 1], strides=[1, 2, 2, 1],\n",
    "                         padding='VALID', name='pool2')\n",
    "    \n",
    "    \n",
    "    # TODO: Flatten. Input = 5x5x16. Output = 400.\n",
    "    pool2 = flatten(pool2, scope = 'pool2')\n",
    "    print(\"Pool2 Shape:::\", pool2.get_shape())\n",
    "    \n",
    "    \n",
    "    # TODO: Layer 3: Fully Connected. Input = 400. Output = 120.\n",
    "    with tf.variable_scope('layer3') as scope:\n",
    "        weights = tf.Variable(tf.truncated_normal((400, 120), mean = mu, stddev = sigma))\n",
    "        biases = tf.Variable(tf.zeros(120))\n",
    "        layer3 = tf.add(tf.matmul(pool2, weights), biases, name = scope.name)\n",
    "        layer3 = tf.nn.relu(layer3)\n",
    "    print(\"Layer3 Shape:::\", layer3.get_shape())\n",
    "    # TODO: Activation.\n",
    "\n",
    "    # TODO: Layer 4: Fully Connected. Input = 120. Output = 84.\n",
    "    with tf.variable_scope('layer4') as scope:\n",
    "        weights = tf.Variable(tf.truncated_normal((120, 84), mean = mu, stddev = sigma))\n",
    "        biases = tf.Variable(tf.zeros(84))\n",
    "        layer4 = tf.add(tf.matmul(layer3, weights), biases, name = scope.name)\n",
    "        layer4 = tf.nn.relu(layer4)\n",
    "    print(\"Layer 4 Shape\", layer4.get_shape())\n",
    "    \n",
    "    # TODO: Activation.\n",
    "\n",
    "    # TODO: Layer 5: Fully Connected. Input = 84. Output = 43.\n",
    "    with tf.variable_scope('logits') as scope:\n",
    "        weights = tf.Variable(tf.truncated_normal((84, 43), mean = mu, stddev = sigma))\n",
    "        biases = tf.Variable(tf.zeros(43))\n",
    "        logits = tf.add(tf.matmul(layer4, weights), biases, name = scope.name)\n",
    "    print(\"Logits Shape::\", logits.get_shape())\n",
    "    return logits"
   ]
  },
  {
   "cell_type": "markdown",
   "metadata": {},
   "source": [
    "### Train, Validate and Test the Model"
   ]
  },
  {
   "cell_type": "markdown",
   "metadata": {},
   "source": [
    "A validation set can be used to assess how well the model is performing. A low accuracy on the training and validation\n",
    "sets imply underfitting. A high accuracy on the test set but low accuracy on the validation set implies overfitting."
   ]
  },
  {
   "cell_type": "code",
   "execution_count": 8,
   "metadata": {
    "collapsed": true
   },
   "outputs": [],
   "source": [
    "### Train your model here.\n",
    "### Calculate and report the accuracy on the training and validation set.\n",
    "### Once a final model architecture is selected, \n",
    "### the accuracy on the test set should be calculated and reported as well.\n",
    "### Feel free to use as many code cells as needed."
   ]
  },
  {
   "cell_type": "code",
   "execution_count": 9,
   "metadata": {
    "collapsed": false
   },
   "outputs": [],
   "source": [
    "x = tf.placeholder(tf.float32, (None, 32, 32, 3))\n",
    "y = tf.placeholder(tf.int32, (None))\n",
    "one_hot_y = tf.one_hot(y, 43)"
   ]
  },
  {
   "cell_type": "code",
   "execution_count": 10,
   "metadata": {
    "collapsed": false
   },
   "outputs": [
    {
     "name": "stdout",
     "output_type": "stream",
     "text": [
      "Conv1 Shape::: (?, 28, 28, 6)\n",
      "Pool1 Shape::: (?, 14, 14, 6)\n",
      "Conv2 Shape::: (?, 10, 10, 16)\n",
      "Pool2 Shape::: (?, 400)\n",
      "Layer3 Shape::: (?, 120)\n",
      "Layer 4 Shape (?, 84)\n",
      "Logits Shape:: (?, 43)\n"
     ]
    }
   ],
   "source": [
    "rate = 0.001\n",
    "\n",
    "logits = LeNet(x)\n",
    "cross_entropy = tf.nn.softmax_cross_entropy_with_logits(logits, one_hot_y)\n",
    "loss_operation = tf.reduce_mean(cross_entropy)\n",
    "optimizer = tf.train.AdamOptimizer(learning_rate = rate)\n",
    "training_operation = optimizer.minimize(loss_operation)"
   ]
  },
  {
   "cell_type": "code",
   "execution_count": 11,
   "metadata": {
    "collapsed": false
   },
   "outputs": [
    {
     "name": "stdout",
     "output_type": "stream",
     "text": [
      "Correct prediction Tensor(\"Equal:0\", dtype=bool)\n"
     ]
    }
   ],
   "source": [
    "correct_prediction = tf.equal(tf.argmax(logits, 1), tf.argmax(one_hot_y, 1))\n",
    "print(\"Correct prediction\", correct_prediction)\n",
    "accuracy_operation = tf.reduce_mean(tf.cast(correct_prediction, tf.float32))\n",
    "saver = tf.train.Saver()\n",
    "\n",
    "def evaluate(X_data, y_data):\n",
    "    num_examples = len(X_data)\n",
    "    total_accuracy = 0\n",
    "    sess = tf.get_default_session()\n",
    "    for offset in range(0, num_examples, BATCH_SIZE):\n",
    "        batch_x, batch_y = X_data[offset:offset+BATCH_SIZE], y_data[offset:offset+BATCH_SIZE]\n",
    "        accuracy = sess.run(accuracy_operation, feed_dict={x: batch_x, y: batch_y})\n",
    "        total_accuracy += (accuracy * len(batch_x))\n",
    "    return total_accuracy / num_examples"
   ]
  },
  {
   "cell_type": "code",
   "execution_count": 12,
   "metadata": {
    "collapsed": false
   },
   "outputs": [
    {
     "name": "stdout",
     "output_type": "stream",
     "text": [
      "Training...\n",
      "\n",
      "EPOCH 1 ...\n",
      "Validation Accuracy = 0.726\n",
      "\n",
      "EPOCH 2 ...\n",
      "Validation Accuracy = 0.874\n",
      "\n",
      "EPOCH 3 ...\n",
      "Validation Accuracy = 0.906\n",
      "\n",
      "EPOCH 4 ...\n",
      "Validation Accuracy = 0.927\n",
      "\n",
      "EPOCH 5 ...\n",
      "Validation Accuracy = 0.944\n",
      "\n",
      "EPOCH 6 ...\n",
      "Validation Accuracy = 0.944\n",
      "\n",
      "EPOCH 7 ...\n",
      "Validation Accuracy = 0.955\n",
      "\n",
      "EPOCH 8 ...\n",
      "Validation Accuracy = 0.960\n",
      "\n",
      "EPOCH 9 ...\n",
      "Validation Accuracy = 0.956\n",
      "\n",
      "EPOCH 10 ...\n",
      "Validation Accuracy = 0.946\n",
      "\n",
      "EPOCH 11 ...\n",
      "Validation Accuracy = 0.966\n",
      "\n",
      "EPOCH 12 ...\n",
      "Validation Accuracy = 0.966\n",
      "\n",
      "EPOCH 13 ...\n",
      "Validation Accuracy = 0.963\n",
      "\n",
      "EPOCH 14 ...\n",
      "Validation Accuracy = 0.962\n",
      "\n",
      "EPOCH 15 ...\n",
      "Validation Accuracy = 0.955\n",
      "\n",
      "EPOCH 16 ...\n",
      "Validation Accuracy = 0.966\n",
      "\n",
      "EPOCH 17 ...\n",
      "Validation Accuracy = 0.970\n",
      "\n",
      "EPOCH 18 ...\n",
      "Validation Accuracy = 0.959\n",
      "\n",
      "EPOCH 19 ...\n",
      "Validation Accuracy = 0.969\n",
      "\n",
      "EPOCH 20 ...\n",
      "Validation Accuracy = 0.968\n",
      "\n",
      "EPOCH 21 ...\n",
      "Validation Accuracy = 0.975\n",
      "\n",
      "EPOCH 22 ...\n",
      "Validation Accuracy = 0.979\n",
      "\n",
      "EPOCH 23 ...\n",
      "Validation Accuracy = 0.968\n",
      "\n",
      "EPOCH 24 ...\n",
      "Validation Accuracy = 0.967\n",
      "\n",
      "EPOCH 25 ...\n",
      "Validation Accuracy = 0.963\n",
      "\n",
      "EPOCH 26 ...\n",
      "Validation Accuracy = 0.969\n",
      "\n",
      "EPOCH 27 ...\n",
      "Validation Accuracy = 0.977\n",
      "\n",
      "EPOCH 28 ...\n",
      "Validation Accuracy = 0.968\n",
      "\n",
      "EPOCH 29 ...\n",
      "Validation Accuracy = 0.965\n",
      "\n",
      "EPOCH 30 ...\n",
      "Validation Accuracy = 0.968\n",
      "\n",
      "EPOCH 31 ...\n",
      "Validation Accuracy = 0.975\n",
      "\n",
      "EPOCH 32 ...\n",
      "Validation Accuracy = 0.968\n",
      "\n",
      "EPOCH 33 ...\n",
      "Validation Accuracy = 0.977\n",
      "\n",
      "EPOCH 34 ...\n",
      "Validation Accuracy = 0.977\n",
      "\n",
      "EPOCH 35 ...\n",
      "Validation Accuracy = 0.976\n",
      "\n",
      "EPOCH 36 ...\n",
      "Validation Accuracy = 0.965\n",
      "\n",
      "EPOCH 37 ...\n",
      "Validation Accuracy = 0.974\n",
      "\n",
      "EPOCH 38 ...\n",
      "Validation Accuracy = 0.977\n",
      "\n",
      "EPOCH 39 ...\n",
      "Validation Accuracy = 0.983\n",
      "\n",
      "EPOCH 40 ...\n",
      "Validation Accuracy = 0.982\n",
      "\n",
      "EPOCH 41 ...\n",
      "Validation Accuracy = 0.974\n",
      "\n",
      "EPOCH 42 ...\n",
      "Validation Accuracy = 0.975\n",
      "\n",
      "EPOCH 43 ...\n",
      "Validation Accuracy = 0.971\n",
      "\n",
      "EPOCH 44 ...\n",
      "Validation Accuracy = 0.978\n",
      "\n",
      "EPOCH 45 ...\n",
      "Validation Accuracy = 0.982\n",
      "\n",
      "EPOCH 46 ...\n",
      "Validation Accuracy = 0.975\n",
      "\n",
      "EPOCH 47 ...\n",
      "Validation Accuracy = 0.972\n",
      "\n",
      "EPOCH 48 ...\n",
      "Validation Accuracy = 0.979\n",
      "\n",
      "EPOCH 49 ...\n",
      "Validation Accuracy = 0.965\n",
      "\n",
      "EPOCH 50 ...\n",
      "Validation Accuracy = 0.981\n",
      "\n",
      "Model saved\n"
     ]
    }
   ],
   "source": [
    "EPOCHS = 50\n",
    "BATCH_SIZE = 128\n",
    "with tf.Session() as sess:\n",
    "    sess.run(tf.global_variables_initializer())\n",
    "    num_examples = len(X_train)\n",
    "    \n",
    "    print(\"Training...\")\n",
    "    print()\n",
    "    for i in range(EPOCHS):\n",
    "        X_train, y_train = shuffle(X_train, y_train)\n",
    "        for offset in range(0, num_examples, BATCH_SIZE):\n",
    "            end = offset + BATCH_SIZE\n",
    "            batch_x, batch_y = X_train[offset:end], y_train[offset:end]\n",
    "            sess.run(training_operation, feed_dict={x: batch_x, y: batch_y})\n",
    "            \n",
    "        validation_accuracy = evaluate(X_validation, y_validation)\n",
    "        print(\"EPOCH {} ...\".format(i+1))\n",
    "        print(\"Validation Accuracy = {:.3f}\".format(validation_accuracy))\n",
    "        print()\n",
    "        \n",
    "    saver.save(sess, './traffic_sign')\n",
    "    print(\"Model saved\")"
   ]
  },
  {
   "cell_type": "markdown",
   "metadata": {},
   "source": [
    "---\n",
    "\n",
    "## Step 3: Test a Model on New Images\n",
    "\n",
    "To give yourself more insight into how your model is working, download at least five pictures of German traffic signs from the web and use your model to predict the traffic sign type.\n",
    "\n",
    "You may find `signnames.csv` useful as it contains mappings from the class id (integer) to the actual sign name."
   ]
  },
  {
   "cell_type": "markdown",
   "metadata": {},
   "source": [
    "### Load and Output the Images"
   ]
  },
  {
   "cell_type": "code",
   "execution_count": 39,
   "metadata": {
    "collapsed": false
   },
   "outputs": [
    {
     "name": "stdout",
     "output_type": "stream",
     "text": [
      "(6, 32, 32, 3)\n"
     ]
    },
    {
     "data": {
      "image/png": "[encoded data removed]",
      "text/plain": [
       "<matplotlib.figure.Figure at 0x7ffae6061438>"
      ]
     },
     "metadata": {},
     "output_type": "display_data"
    }
   ],
   "source": [
    "### Load the images and plot them here.\n",
    "### Feel free to use as many code cells as needed.\n",
    "\"\"\"\n",
    "import tensorflow as tf\n",
    "filename_queue = tf.train.string_input_producer(['four.jpeg', 'two.jpeg', 'three.jpeg', 'five.jpeg', 'seven.jpeg'])\n",
    "print(filename_queue)\n",
    "image_reader = tf.WholeFileReader()\n",
    "key, value = image_reader.read(filename_queue)\n",
    "my_img = tf.image.decode_jpeg(value)\n",
    "print(my_img)\n",
    "\n",
    "\"\"\"\n",
    "%matplotlib inline\n",
    "import glob\n",
    "import matplotlib.pyplot as plt\n",
    "import matplotlib.image as mpimg\n",
    "import cv2\n",
    "import numpy as np\n",
    "import scipy.misc\n",
    "\n",
    "i_width = 32\n",
    "i_height = 32\n",
    "fig, axs = plt.subplots(2,4, figsize=(4, 2))\n",
    "fig.subplots_adjust(hspace = .2, wspace=.001)\n",
    "axs = axs.ravel()\n",
    "\n",
    "\n",
    "my_images = []\n",
    "\n",
    "for i, img in enumerate(glob.glob('test_images/*.png')):\n",
    "    image = cv2.imread(img)\n",
    "    image = scipy.misc.imresize(image, (i_height, i_width))\n",
    "    axs[i].axis('off')\n",
    "    axs[i].imshow(cv2.cvtColor(image, cv2.COLOR_BGR2RGB))\n",
    "    my_images.append(image)\n",
    "\n",
    "#del my_images[5:7]\n",
    "\n",
    "images = np.asarray(my_images)\n",
    "print(images.shape)\n",
    "\n",
    "#my_images_gry = np.sum(images/3, axis=3, keepdims=True)\n",
    "\n",
    "#my_images_normalized = (my_images_gry - 128)/128 \n",
    "\n",
    "#reshaped_images = images.reshape((6,32,32,3))"
   ]
  },
  {
   "cell_type": "code",
   "execution_count": 42,
   "metadata": {
    "collapsed": false
   },
   "outputs": [
    {
     "name": "stdout",
     "output_type": "stream",
     "text": [
      "Test Set Accuracy = 0.167\n"
     ]
    }
   ],
   "source": [
    "#init = tf.global_variables_initializer()\n",
    "import tensorflow as tf\n",
    "\n",
    "my_label = [28, 0, 7, 5, 1, 14] \n",
    "init = tf.global_variables_initializer()\n",
    "\n",
    "with tf.Session() as sess:\n",
    "    sess.run(init)\n",
    "   \n",
    "    saver3 = tf.train.import_meta_graph('traffic_sign.meta')\n",
    "    saver3.restore(sess, tf.train.latest_checkpoint('.'))\n",
    "    #saver3.restore(sess, 'traffic_sign')\n",
    "    my_accuracy = evaluate(images, my_label)\n",
    "    \n",
    "    \n",
    "    print(\"Test Set Accuracy = {:.3f}\".format(my_accuracy))"
   ]
  },
  {
   "cell_type": "code",
   "execution_count": 43,
   "metadata": {
    "collapsed": false
   },
   "outputs": [
    {
     "name": "stdout",
     "output_type": "stream",
     "text": [
      "Predictions :::: [[  1.34481835e-18   1.82638640e-13   1.56283508e-09   5.09783843e-18\n",
      "    4.43527661e-21   2.49587072e-16   9.50411082e-14   6.06115508e-19\n",
      "    7.67932691e-15   8.68598542e-14   1.12317553e-17   9.98052239e-01\n",
      "    1.10385827e-06   1.04543170e-14   7.52649474e-28   1.12847234e-22\n",
      "    1.11095260e-20   1.51262334e-21   1.40647870e-03   3.12977821e-19\n",
      "    4.99451242e-04   5.17973175e-09   2.83306678e-20   9.73597425e-10\n",
      "    5.01024040e-08   8.29469826e-09   1.26379396e-09   2.20920615e-10\n",
      "    6.01647514e-08   1.18037938e-15   4.00139252e-05   2.60932447e-14\n",
      "    9.99547992e-19   5.37932519e-16   2.50182828e-16   1.89853457e-15\n",
      "    7.98161653e-14   4.91193065e-22   6.31890998e-07   5.28632278e-22\n",
      "    1.24142411e-14   1.27536802e-14   1.14246505e-18]\n",
      " [  2.04328166e-31   3.29651120e-20   9.63830501e-26   8.60612523e-21\n",
      "    1.08608864e-33   9.84650187e-24   1.36549809e-38   1.37821619e-36\n",
      "    6.47643113e-34   1.46673194e-24   5.21914075e-29   1.11134050e-32\n",
      "    0.00000000e+00   8.24704208e-32   0.00000000e+00   1.49362142e-29\n",
      "    3.69404167e-29   0.00000000e+00   8.91785116e-34   1.81348397e-36\n",
      "    2.04222269e-15   0.00000000e+00   8.67729325e-22   4.97555030e-34\n",
      "    0.00000000e+00   2.35392134e-38   7.66992373e-32   4.93838565e-37\n",
      "    1.00000000e+00   0.00000000e+00   1.33840818e-30   0.00000000e+00\n",
      "    2.54577872e-38   2.22737254e-31   0.00000000e+00   1.33967070e-29\n",
      "    1.83597915e-38   0.00000000e+00   8.82818298e-35   1.98538701e-30\n",
      "    2.75177277e-22   0.00000000e+00   0.00000000e+00]\n",
      " [  5.73730916e-02   3.66645381e-02   4.70296203e-22   1.33359632e-26\n",
      "    5.10945732e-15   9.16555460e-13   1.19469130e-38   9.05962348e-01\n",
      "    2.51099703e-27   0.00000000e+00   0.00000000e+00   2.95128509e-18\n",
      "    0.00000000e+00   6.51972219e-33   0.00000000e+00   0.00000000e+00\n",
      "    1.78286706e-35   0.00000000e+00   9.34807684e-28   0.00000000e+00\n",
      "    1.03111007e-32   1.11576718e-26   7.96741985e-37   7.55502269e-18\n",
      "    8.00785341e-11   6.00910466e-36   3.47648749e-30   3.35190892e-32\n",
      "    4.47030404e-23   0.00000000e+00   9.72834017e-25   1.17935655e-20\n",
      "    0.00000000e+00   2.33766447e-31   0.00000000e+00   6.53182761e-31\n",
      "    0.00000000e+00   1.42642256e-28   4.81625749e-35   4.88876192e-13\n",
      "    1.70958369e-27   0.00000000e+00   1.37923045e-17]\n",
      " [  1.87404242e-37   1.00000000e+00   1.05462846e-22   2.24205734e-34\n",
      "    0.00000000e+00   4.24980979e-27   8.06249671e-22   0.00000000e+00\n",
      "    0.00000000e+00   0.00000000e+00   0.00000000e+00   0.00000000e+00\n",
      "    0.00000000e+00   0.00000000e+00   0.00000000e+00   0.00000000e+00\n",
      "    0.00000000e+00   0.00000000e+00   0.00000000e+00   0.00000000e+00\n",
      "    0.00000000e+00   0.00000000e+00   0.00000000e+00   0.00000000e+00\n",
      "    0.00000000e+00   0.00000000e+00   0.00000000e+00   0.00000000e+00\n",
      "    3.68457996e-24   0.00000000e+00   0.00000000e+00   0.00000000e+00\n",
      "    0.00000000e+00   0.00000000e+00   0.00000000e+00   0.00000000e+00\n",
      "    0.00000000e+00   0.00000000e+00   0.00000000e+00   0.00000000e+00\n",
      "    0.00000000e+00   0.00000000e+00   0.00000000e+00]\n",
      " [  0.00000000e+00   2.00004990e-26   0.00000000e+00   0.00000000e+00\n",
      "    0.00000000e+00   4.09916849e-36   0.00000000e+00   0.00000000e+00\n",
      "    0.00000000e+00   5.38359366e-35   0.00000000e+00   1.92592512e-34\n",
      "    1.42131611e-07   0.00000000e+00   0.00000000e+00   0.00000000e+00\n",
      "    4.25718698e-25   3.03528018e-37   3.67565689e-09   0.00000000e+00\n",
      "    7.35278381e-03   0.00000000e+00   0.00000000e+00   0.00000000e+00\n",
      "    0.00000000e+00   0.00000000e+00   1.77084612e-17   1.48288010e-32\n",
      "    4.95545003e-23   0.00000000e+00   2.93447436e-37   0.00000000e+00\n",
      "    2.80515277e-29   0.00000000e+00   1.19620580e-23   2.65085971e-18\n",
      "    0.00000000e+00   0.00000000e+00   3.26612778e-03   4.88911187e-23\n",
      "    9.89380956e-01   2.59234928e-25   0.00000000e+00]\n",
      " [  1.11740502e-14   6.75409249e-17   1.59027269e-09   2.25549912e-10\n",
      "    7.83648524e-09   2.28340714e-03   1.39129179e-28   1.76308596e-33\n",
      "    5.28759629e-16   8.57208354e-15   1.91732197e-15   1.07231228e-23\n",
      "    2.35156683e-35   4.61912168e-06   2.13858629e-36   9.09883779e-10\n",
      "    1.03733938e-32   6.89478368e-13   5.72548575e-15   1.65796895e-30\n",
      "    8.32316800e-14   1.27924909e-24   3.17332021e-15   5.14715910e-04\n",
      "    3.30005760e-23   4.75607611e-14   6.15995350e-25   0.00000000e+00\n",
      "    1.40005631e-19   8.86630214e-11   5.00961637e-23   3.71900115e-14\n",
      "    3.78393571e-32   9.97197270e-01   1.61146557e-21   1.83439184e-08\n",
      "    4.99622648e-20   7.91906287e-21   1.51588203e-15   2.83692785e-15\n",
      "    4.77319735e-14   1.21874750e-37   0.00000000e+00]]\n",
      "Top 5 probabilities TopKV2(values=array([[  9.98052239e-01,   1.40647870e-03,   4.99451242e-04,\n",
      "          4.00139252e-05,   1.10385827e-06,   6.31890998e-07],\n",
      "       [  1.00000000e+00,   2.04222269e-15,   3.29651120e-20,\n",
      "          8.60612523e-21,   8.67729325e-22,   2.75177277e-22],\n",
      "       [  9.05962348e-01,   5.73730916e-02,   3.66645381e-02,\n",
      "          8.00785341e-11,   9.16555460e-13,   4.88876192e-13],\n",
      "       [  1.00000000e+00,   8.06249671e-22,   1.05462846e-22,\n",
      "          3.68457996e-24,   4.24980979e-27,   2.24205734e-34],\n",
      "       [  9.89380956e-01,   7.35278381e-03,   3.26612778e-03,\n",
      "          1.42131611e-07,   3.67565689e-09,   1.77084612e-17],\n",
      "       [  9.97197270e-01,   2.28340714e-03,   5.14715910e-04,\n",
      "          4.61912168e-06,   1.83439184e-08,   7.83648524e-09]], dtype=float32), indices=array([[11, 18, 20, 30, 12, 38],\n",
      "       [28, 20,  1,  3, 22, 40],\n",
      "       [ 7,  0,  1, 24,  5, 39],\n",
      "       [ 1,  6,  2, 28,  5,  3],\n",
      "       [40, 20, 38, 12, 18, 26],\n",
      "       [33,  5, 23, 13, 35,  4]], dtype=int32))\n"
     ]
    }
   ],
   "source": [
    "\n",
    "with tf.Session() as sess:\n",
    "    # Required to get the filename matching to run.\n",
    "    sess.run(init)\n",
    "\n",
    "    # Coordinate the loading of image files.\n",
    "    coord = tf.train.Coordinator()\n",
    "    threads = tf.train.start_queue_runners(coord=coord)\n",
    "\n",
    "    # Get an image tensor and print its value.\n",
    "    saver.restore(sess, tf.train.latest_checkpoint('.'))\n",
    "    pred = tf.nn.softmax(logits)\n",
    "    \n",
    "    #Batch the images\n",
    "    \n",
    "    predictions = sess.run(pred, feed_dict={x: images})\n",
    "    print(\"Predictions ::::\", predictions)\n",
    "    print(\"Top 5 probabilities\", sess.run(tf.nn.top_k(tf.constant(predictions), k=6)))\n",
    "    # Finish off the filename queue coordinator.\n",
    "    coord.request_stop()\n",
    "    coord.join(threads)\n"
   ]
  },
  {
   "cell_type": "code",
   "execution_count": null,
   "metadata": {
    "collapsed": false
   },
   "outputs": [],
   "source": [
    "plt.imshow(predictions)"
   ]
  },
  {
   "cell_type": "markdown",
   "metadata": {},
   "source": [
    "### Predict the Sign Type for Each Image"
   ]
  },
  {
   "cell_type": "code",
   "execution_count": null,
   "metadata": {
    "collapsed": true
   },
   "outputs": [],
   "source": [
    "### Run the predictions here and use the model to output the prediction for each image.\n",
    "### Make sure to pre-process the images with the same pre-processing pipeline used earlier.\n",
    "### Feel free to use as many code cells as needed."
   ]
  },
  {
   "cell_type": "markdown",
   "metadata": {},
   "source": [
    "### Analyze Performance"
   ]
  },
  {
   "cell_type": "code",
   "execution_count": null,
   "metadata": {
    "collapsed": true
   },
   "outputs": [],
   "source": [
    "### Calculate the accuracy for these 5 new images. \n",
    "### For example, if the model predicted 1 out of 5 signs correctly, it's 20% accurate on these new images.\n"
   ]
  },
  {
   "cell_type": "markdown",
   "metadata": {},
   "source": [
    "### Output Top 5 Softmax Probabilities For Each Image Found on the Web"
   ]
  },
  {
   "cell_type": "markdown",
   "metadata": {},
   "source": [
    "For each of the new images, print out the model's softmax probabilities to show the **certainty** of the model's predictions (limit the output to the top 5 probabilities for each image). [`tf.nn.top_k`](https://www.tensorflow.org/versions/r0.12/api_docs/python/nn.html#top_k) could prove helpful here. \n",
    "\n",
    "The example below demonstrates how tf.nn.top_k can be used to find the top k predictions for each image.\n",
    "\n",
    "`tf.nn.top_k` will return the values and indices (class ids) of the top k predictions. So if k=3, for each sign, it'll return the 3 largest probabilities (out of a possible 43) and the correspoding class ids.\n",
    "\n",
    "Take this numpy array as an example. The values in the array represent predictions. The array contains softmax probabilities for five candidate images with six possible classes. `tk.nn.top_k` is used to choose the three classes with the highest probability:\n",
    "\n",
    "```\n",
    "# (5, 6) array\n",
    "a = np.array([[ 0.24879643,  0.07032244,  0.12641572,  0.34763842,  0.07893497,\n",
    "         0.12789202],\n",
    "       [ 0.28086119,  0.27569815,  0.08594638,  0.0178669 ,  0.18063401,\n",
    "         0.15899337],\n",
    "       [ 0.26076848,  0.23664738,  0.08020603,  0.07001922,  0.1134371 ,\n",
    "         0.23892179],\n",
    "       [ 0.11943333,  0.29198961,  0.02605103,  0.26234032,  0.1351348 ,\n",
    "         0.16505091],\n",
    "       [ 0.09561176,  0.34396535,  0.0643941 ,  0.16240774,  0.24206137,\n",
    "         0.09155967]])\n",
    "```\n",
    "\n",
    "Running it through `sess.run(tf.nn.top_k(tf.constant(a), k=3))` produces:\n",
    "\n",
    "```\n",
    "TopKV2(values=array([[ 0.34763842,  0.24879643,  0.12789202],\n",
    "       [ 0.28086119,  0.27569815,  0.18063401],\n",
    "       [ 0.26076848,  0.23892179,  0.23664738],\n",
    "       [ 0.29198961,  0.26234032,  0.16505091],\n",
    "       [ 0.34396535,  0.24206137,  0.16240774]]), indices=array([[3, 0, 5],\n",
    "       [0, 1, 4],\n",
    "       [0, 5, 1],\n",
    "       [1, 3, 5],\n",
    "       [1, 4, 3]], dtype=int32))\n",
    "```\n",
    "\n",
    "Looking just at the first row we get `[ 0.34763842,  0.24879643,  0.12789202]`, you can confirm these are the 3 largest probabilities in `a`. You'll also notice `[3, 0, 5]` are the corresponding indices."
   ]
  },
  {
   "cell_type": "code",
   "execution_count": null,
   "metadata": {
    "collapsed": true
   },
   "outputs": [],
   "source": [
    "### Print out the top five softmax probabilities for the predictions on the German traffic sign images found on the web. \n",
    "### Feel free to use as many code cells as needed.\n"
   ]
  },
  {
   "cell_type": "markdown",
   "metadata": {},
   "source": [
    "> **Note**: Once you have completed all of the code implementations, you need to finalize your work by exporting the IPython Notebook as an HTML document. Before exporting the notebook to html, all of the code cells need to have been run. You can then export the notebook by using the menu above and navigating to  \\n\",\n",
    "    \"**File -> Download as -> HTML (.html)**. Include the finished document along with this notebook as your submission. "
   ]
  },
  {
   "cell_type": "markdown",
   "metadata": {},
   "source": [
    "### Project Writeup\n",
    "\n",
    "Once you have completed the code implementation, document your results in a project writeup using this [template](https://github.com/udacity/CarND-Traffic-Sign-Classifier-Project/blob/master/writeup_template.md) as a guide. The writeup can be in a markdown or pdf file. "
   ]
  }
 ],
 "metadata": {
  "anaconda-cloud": {},
  "kernelspec": {
   "display_name": "Python 3",
   "language": "python",
   "name": "python3"
  },
  "language_info": {
   "codemirror_mode": {
    "name": "ipython",
    "version": 3
   },
   "file_extension": ".py",
   "mimetype": "text/x-python",
   "name": "python",
   "nbconvert_exporter": "python",
   "pygments_lexer": "ipython3",
   "version": "3.5.2"
  }
 },
 "nbformat": 4,
 "nbformat_minor": 1
}
